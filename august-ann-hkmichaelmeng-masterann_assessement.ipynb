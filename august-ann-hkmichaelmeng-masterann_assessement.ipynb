{
 "cells": [
  {
   "cell_type": "code",
   "execution_count": 1,
   "id": "d98f0e2b",
   "metadata": {},
   "outputs": [],
   "source": [
    "import numpy as np\n",
    "import pandas as pd\n",
    "from sklearn.model_selection import train_test_split\n",
    "from sklearn.metrics import confusion_matrix\n",
    "# set the seed for the same result\n",
    "import tensorflow\n",
    "from numpy.random import seed\n",
    "np.random.seed(1)\n",
    "PYTHONHASHSEED=0\n",
    "tensorflow.random.set_seed(2)"
   ]
  },
  {
   "cell_type": "code",
   "execution_count": 22,
   "id": "bd627262",
   "metadata": {},
   "outputs": [],
   "source": [
    "columns=[\"Class\", \"age\", \"menopause\", \"tumor-size\", \"inv-nodes\", \"node-caps\", \"deg-malig\", \"breast\", \"breast-quad\", \"irradiat\"]\n",
    "cancer = pd.read_csv('data/breast-cancer.data', header=None, names =columns)"
   ]
  },
  {
   "cell_type": "code",
   "execution_count": 23,
   "id": "86753fd8",
   "metadata": {},
   "outputs": [],
   "source": [
    "cancer['Target'] = cancer['Class'].map(lambda x: 1 if x=='recurrence-events' else 0 )\n",
    "# drop the original 'Class' column\n",
    "cancer.drop(\"Class\", axis=1,inplace=True)\n",
    "\n",
    "target = cancer[['Target']]\n",
    "cancer.drop('Target', axis = 1, inplace = True)"
   ]
  },
  {
   "cell_type": "markdown",
   "id": "566f31b0",
   "metadata": {},
   "source": [
    "Question 1:\n",
    "we want to encode the age column as follows:\n",
    "if age is 20-29, encode as 1\n",
    "if age is 30-39, encode as 2,... so on\n",
    "if age is 70-79, encode as 6\n",
    "return a new Series called cancer['newAge']\n"
   ]
  },
  {
   "cell_type": "code",
   "execution_count": 24,
   "id": "4339f59a",
   "metadata": {},
   "outputs": [
    {
     "data": {
      "text/plain": [
       "50-59    96\n",
       "40-49    90\n",
       "60-69    57\n",
       "30-39    36\n",
       "70-79     6\n",
       "20-29     1\n",
       "Name: age, dtype: int64"
      ]
     },
     "execution_count": 24,
     "metadata": {},
     "output_type": "execute_result"
    }
   ],
   "source": [
    "cancer.age.value_counts()"
   ]
  },
  {
   "cell_type": "markdown",
   "id": "d93f949d",
   "metadata": {},
   "source": [
    "#  Question 1:"
   ]
  },
  {
   "cell_type": "code",
   "execution_count": 26,
   "id": "38ee4611",
   "metadata": {},
   "outputs": [],
   "source": [
    "def modifyAge():\n",
    "    def changeAge(x):       \n",
    "        # YOUR CODE STARTS HERE\n",
    "        #HINT: write if-else statement to return\n",
    "        #the correct number for each age category\n",
    "        if x == '20-29':\n",
    "            return 1\n",
    "        elif x == '30-39':\n",
    "            return 2\n",
    "        elif x == '40-49':\n",
    "            return 3\n",
    "        elif x == '50-59':\n",
    "            return 4\n",
    "        elif x == '60-69':\n",
    "            return 5\n",
    "        elif x == '70-79':\n",
    "            return 6\n",
    "\n",
    "        # YOUR CODE ENDS HERE\n",
    "    cancer['age'] = cancer['age'].apply(lambda x: changeAge(x))\n",
    "    return cancer['age']"
   ]
  },
  {
   "cell_type": "code",
   "execution_count": 27,
   "id": "2610b30d",
   "metadata": {},
   "outputs": [
    {
     "data": {
      "text/plain": [
       "0      2\n",
       "1      3\n",
       "2      3\n",
       "3      5\n",
       "4      3\n",
       "      ..\n",
       "281    2\n",
       "282    2\n",
       "283    5\n",
       "284    3\n",
       "285    4\n",
       "Name: age, Length: 286, dtype: int64"
      ]
     },
     "execution_count": 27,
     "metadata": {},
     "output_type": "execute_result"
    }
   ],
   "source": [
    "modifyAge()"
   ]
  },
  {
   "cell_type": "code",
   "execution_count": 28,
   "id": "27eaa07e",
   "metadata": {},
   "outputs": [],
   "source": [
    "def changeTumor(x):\n",
    "    if x == '0-4':\n",
    "        return 1\n",
    "    elif x == '5-9':\n",
    "        return 2\n",
    "    elif x == '10-14':\n",
    "        return 3\n",
    "    elif x == '15-19':\n",
    "        return 4\n",
    "    elif x == '20-24':\n",
    "        return 5\n",
    "    elif x == '25-29':\n",
    "        return 6\n",
    "    elif x == '30-34':\n",
    "        return 7\n",
    "    elif x == '35-39':\n",
    "        return 8\n",
    "    elif x == '40-44':\n",
    "        return 9\n",
    "    elif x == '45-49':\n",
    "        return 10\n",
    "    elif x == '50-54':\n",
    "        return 11\n",
    "\n",
    "cancer['tumor-size']=cancer['tumor-size'].apply(lambda x: changeTumor(x))"
   ]
  },
  {
   "cell_type": "code",
   "execution_count": 29,
   "id": "416b6c18",
   "metadata": {},
   "outputs": [],
   "source": [
    "# we will do similar encoding with inv-nodes\n",
    "# DO NOT EDIT THIS BELOW CODE\n",
    "def changeInv(x):\n",
    "    if x == '0-2':\n",
    "        return 1\n",
    "    elif x == '3-5':\n",
    "        return 2\n",
    "    elif x == '6-8':\n",
    "        return 3\n",
    "    elif x == '9-11':\n",
    "        return 4\n",
    "    elif x == '12-14':\n",
    "        return 5\n",
    "    elif x == '15-17':\n",
    "        return 6\n",
    "    elif x == '24-26':\n",
    "        return 7\n",
    "\n",
    "cancer['inv-nodes'] = cancer['inv-nodes'].apply(lambda x: changeInv(x))"
   ]
  },
  {
   "cell_type": "code",
   "execution_count": 30,
   "id": "270dbc8f",
   "metadata": {},
   "outputs": [],
   "source": [
    "# Now, we will one hot encode other categorical columns\n",
    "cancer_dummies = pd.get_dummies(cancer, drop_first=True)\n",
    "\n",
    "# we assign cancer_dummies as new_df\n",
    "new_df = cancer_dummies"
   ]
  },
  {
   "cell_type": "code",
   "execution_count": 31,
   "id": "65f1dac8",
   "metadata": {},
   "outputs": [
    {
     "data": {
      "text/html": [
       "<div>\n",
       "<style scoped>\n",
       "    .dataframe tbody tr th:only-of-type {\n",
       "        vertical-align: middle;\n",
       "    }\n",
       "\n",
       "    .dataframe tbody tr th {\n",
       "        vertical-align: top;\n",
       "    }\n",
       "\n",
       "    .dataframe thead th {\n",
       "        text-align: right;\n",
       "    }\n",
       "</style>\n",
       "<table border=\"1\" class=\"dataframe\">\n",
       "  <thead>\n",
       "    <tr style=\"text-align: right;\">\n",
       "      <th></th>\n",
       "      <th>age</th>\n",
       "      <th>tumor-size</th>\n",
       "      <th>inv-nodes</th>\n",
       "      <th>deg-malig</th>\n",
       "      <th>menopause_lt40</th>\n",
       "      <th>menopause_premeno</th>\n",
       "      <th>node-caps_no</th>\n",
       "      <th>node-caps_yes</th>\n",
       "      <th>breast_right</th>\n",
       "      <th>breast-quad_central</th>\n",
       "      <th>breast-quad_left_low</th>\n",
       "      <th>breast-quad_left_up</th>\n",
       "      <th>breast-quad_right_low</th>\n",
       "      <th>breast-quad_right_up</th>\n",
       "      <th>irradiat_yes</th>\n",
       "    </tr>\n",
       "  </thead>\n",
       "  <tbody>\n",
       "    <tr>\n",
       "      <th>0</th>\n",
       "      <td>2</td>\n",
       "      <td>7</td>\n",
       "      <td>1</td>\n",
       "      <td>3</td>\n",
       "      <td>0</td>\n",
       "      <td>1</td>\n",
       "      <td>1</td>\n",
       "      <td>0</td>\n",
       "      <td>0</td>\n",
       "      <td>0</td>\n",
       "      <td>1</td>\n",
       "      <td>0</td>\n",
       "      <td>0</td>\n",
       "      <td>0</td>\n",
       "      <td>0</td>\n",
       "    </tr>\n",
       "    <tr>\n",
       "      <th>1</th>\n",
       "      <td>3</td>\n",
       "      <td>5</td>\n",
       "      <td>1</td>\n",
       "      <td>2</td>\n",
       "      <td>0</td>\n",
       "      <td>1</td>\n",
       "      <td>1</td>\n",
       "      <td>0</td>\n",
       "      <td>1</td>\n",
       "      <td>0</td>\n",
       "      <td>0</td>\n",
       "      <td>0</td>\n",
       "      <td>0</td>\n",
       "      <td>1</td>\n",
       "      <td>0</td>\n",
       "    </tr>\n",
       "    <tr>\n",
       "      <th>2</th>\n",
       "      <td>3</td>\n",
       "      <td>5</td>\n",
       "      <td>1</td>\n",
       "      <td>2</td>\n",
       "      <td>0</td>\n",
       "      <td>1</td>\n",
       "      <td>1</td>\n",
       "      <td>0</td>\n",
       "      <td>0</td>\n",
       "      <td>0</td>\n",
       "      <td>1</td>\n",
       "      <td>0</td>\n",
       "      <td>0</td>\n",
       "      <td>0</td>\n",
       "      <td>0</td>\n",
       "    </tr>\n",
       "    <tr>\n",
       "      <th>3</th>\n",
       "      <td>5</td>\n",
       "      <td>4</td>\n",
       "      <td>1</td>\n",
       "      <td>2</td>\n",
       "      <td>0</td>\n",
       "      <td>0</td>\n",
       "      <td>1</td>\n",
       "      <td>0</td>\n",
       "      <td>1</td>\n",
       "      <td>0</td>\n",
       "      <td>0</td>\n",
       "      <td>1</td>\n",
       "      <td>0</td>\n",
       "      <td>0</td>\n",
       "      <td>0</td>\n",
       "    </tr>\n",
       "    <tr>\n",
       "      <th>4</th>\n",
       "      <td>3</td>\n",
       "      <td>1</td>\n",
       "      <td>1</td>\n",
       "      <td>2</td>\n",
       "      <td>0</td>\n",
       "      <td>1</td>\n",
       "      <td>1</td>\n",
       "      <td>0</td>\n",
       "      <td>1</td>\n",
       "      <td>0</td>\n",
       "      <td>0</td>\n",
       "      <td>0</td>\n",
       "      <td>1</td>\n",
       "      <td>0</td>\n",
       "      <td>0</td>\n",
       "    </tr>\n",
       "  </tbody>\n",
       "</table>\n",
       "</div>"
      ],
      "text/plain": [
       "   age  tumor-size  inv-nodes  deg-malig  menopause_lt40  menopause_premeno  \\\n",
       "0    2           7          1          3               0                  1   \n",
       "1    3           5          1          2               0                  1   \n",
       "2    3           5          1          2               0                  1   \n",
       "3    5           4          1          2               0                  0   \n",
       "4    3           1          1          2               0                  1   \n",
       "\n",
       "   node-caps_no  node-caps_yes  breast_right  breast-quad_central  \\\n",
       "0             1              0             0                    0   \n",
       "1             1              0             1                    0   \n",
       "2             1              0             0                    0   \n",
       "3             1              0             1                    0   \n",
       "4             1              0             1                    0   \n",
       "\n",
       "   breast-quad_left_low  breast-quad_left_up  breast-quad_right_low  \\\n",
       "0                     1                    0                      0   \n",
       "1                     0                    0                      0   \n",
       "2                     1                    0                      0   \n",
       "3                     0                    1                      0   \n",
       "4                     0                    0                      1   \n",
       "\n",
       "   breast-quad_right_up  irradiat_yes  \n",
       "0                     0             0  \n",
       "1                     1             0  \n",
       "2                     0             0  \n",
       "3                     0             0  \n",
       "4                     0             0  "
      ]
     },
     "execution_count": 31,
     "metadata": {},
     "output_type": "execute_result"
    }
   ],
   "source": [
    "new_df.head()"
   ]
  },
  {
   "cell_type": "code",
   "execution_count": 33,
   "id": "565748cc",
   "metadata": {},
   "outputs": [
    {
     "data": {
      "text/plain": [
       "(286, 15)"
      ]
     },
     "execution_count": 33,
     "metadata": {},
     "output_type": "execute_result"
    }
   ],
   "source": [
    "new_df.shape"
   ]
  },
  {
   "cell_type": "code",
   "execution_count": 36,
   "id": "12f6fb54",
   "metadata": {},
   "outputs": [
    {
     "data": {
      "text/plain": [
       "(286, 1)"
      ]
     },
     "execution_count": 36,
     "metadata": {},
     "output_type": "execute_result"
    }
   ],
   "source": [
    "target.shape"
   ]
  },
  {
   "cell_type": "markdown",
   "id": "1792d121",
   "metadata": {},
   "source": [
    "# Question 2"
   ]
  },
  {
   "cell_type": "code",
   "execution_count": 37,
   "id": "48fedec9",
   "metadata": {},
   "outputs": [],
   "source": [
    "# Question 2\n",
    "# split the data into 70%/ 30% training and testing set\n",
    "# set random_state = 101\n",
    "\n",
    "def question2():\n",
    "    # YOUR CODE STARTS HERE\n",
    "    X_train, X_test, y_train, y_test = train_test_split(new_df, target, test_size=0.3, random_state=101)\n",
    "\n",
    "    # YOUR CODE ENDS HERE\n",
    "    return X_train, X_test, y_train, y_test"
   ]
  },
  {
   "cell_type": "code",
   "execution_count": 38,
   "id": "df5c008b",
   "metadata": {},
   "outputs": [],
   "source": [
    "# DO NOT EDIT THE BELOW CODE\n",
    "X_train, X_test, y_train, y_test = question2()\n",
    "# DO NOT EDIT THE ABOVE CODE"
   ]
  },
  {
   "cell_type": "code",
   "execution_count": 39,
   "id": "167ecc5a",
   "metadata": {},
   "outputs": [
    {
     "data": {
      "text/plain": [
       "(200, 15)"
      ]
     },
     "execution_count": 39,
     "metadata": {},
     "output_type": "execute_result"
    }
   ],
   "source": [
    "X_train.shape"
   ]
  },
  {
   "cell_type": "markdown",
   "id": "d2c11282",
   "metadata": {},
   "source": [
    "# Question 3"
   ]
  },
  {
   "cell_type": "code",
   "execution_count": 40,
   "id": "1169e580",
   "metadata": {},
   "outputs": [],
   "source": [
    "# Question 3\n",
    "# Scale X_train and X_test using Standard Scaler\n",
    "# Import all necessary modules\n",
    "from sklearn.preprocessing import StandardScaler\n",
    "\n",
    "def question3():\n",
    "    # YOUR CODE STARTS HERE\n",
    "    sc=StandardScaler()\n",
    "    X_train_scaled = sc.fit_transform(X_train)\n",
    "    X_test_scaled = sc.transform(X_test)\n",
    "\n",
    "    # YOUR CODE ENDS HERE\n",
    "    return X_train_scaled, X_test_scaled"
   ]
  },
  {
   "cell_type": "code",
   "execution_count": 41,
   "id": "43e5d69f",
   "metadata": {},
   "outputs": [],
   "source": [
    "# DO NOT EDIT THE BELOW CODE\n",
    "X_train_scaled, X_test_scaled = question3()\n",
    "# DO NOT EDIT THE ABOVE CODE"
   ]
  },
  {
   "cell_type": "code",
   "execution_count": 47,
   "id": "2b8acdb8",
   "metadata": {},
   "outputs": [
    {
     "data": {
      "text/plain": [
       "(200, 15)"
      ]
     },
     "execution_count": 47,
     "metadata": {},
     "output_type": "execute_result"
    }
   ],
   "source": [
    "X_train_scaled.shape"
   ]
  },
  {
   "cell_type": "code",
   "execution_count": 49,
   "id": "695e9c75",
   "metadata": {},
   "outputs": [
    {
     "data": {
      "text/html": [
       "<div>\n",
       "<style scoped>\n",
       "    .dataframe tbody tr th:only-of-type {\n",
       "        vertical-align: middle;\n",
       "    }\n",
       "\n",
       "    .dataframe tbody tr th {\n",
       "        vertical-align: top;\n",
       "    }\n",
       "\n",
       "    .dataframe thead th {\n",
       "        text-align: right;\n",
       "    }\n",
       "</style>\n",
       "<table border=\"1\" class=\"dataframe\">\n",
       "  <thead>\n",
       "    <tr style=\"text-align: right;\">\n",
       "      <th></th>\n",
       "      <th>Target</th>\n",
       "    </tr>\n",
       "  </thead>\n",
       "  <tbody>\n",
       "    <tr>\n",
       "      <th>0</th>\n",
       "      <td>0</td>\n",
       "    </tr>\n",
       "    <tr>\n",
       "      <th>1</th>\n",
       "      <td>0</td>\n",
       "    </tr>\n",
       "    <tr>\n",
       "      <th>2</th>\n",
       "      <td>0</td>\n",
       "    </tr>\n",
       "    <tr>\n",
       "      <th>3</th>\n",
       "      <td>0</td>\n",
       "    </tr>\n",
       "    <tr>\n",
       "      <th>4</th>\n",
       "      <td>0</td>\n",
       "    </tr>\n",
       "    <tr>\n",
       "      <th>...</th>\n",
       "      <td>...</td>\n",
       "    </tr>\n",
       "    <tr>\n",
       "      <th>281</th>\n",
       "      <td>1</td>\n",
       "    </tr>\n",
       "    <tr>\n",
       "      <th>282</th>\n",
       "      <td>1</td>\n",
       "    </tr>\n",
       "    <tr>\n",
       "      <th>283</th>\n",
       "      <td>1</td>\n",
       "    </tr>\n",
       "    <tr>\n",
       "      <th>284</th>\n",
       "      <td>1</td>\n",
       "    </tr>\n",
       "    <tr>\n",
       "      <th>285</th>\n",
       "      <td>1</td>\n",
       "    </tr>\n",
       "  </tbody>\n",
       "</table>\n",
       "<p>286 rows × 1 columns</p>\n",
       "</div>"
      ],
      "text/plain": [
       "     Target\n",
       "0         0\n",
       "1         0\n",
       "2         0\n",
       "3         0\n",
       "4         0\n",
       "..      ...\n",
       "281       1\n",
       "282       1\n",
       "283       1\n",
       "284       1\n",
       "285       1\n",
       "\n",
       "[286 rows x 1 columns]"
      ]
     },
     "execution_count": 49,
     "metadata": {},
     "output_type": "execute_result"
    }
   ],
   "source": [
    "target"
   ]
  },
  {
   "cell_type": "markdown",
   "id": "d6132c62",
   "metadata": {},
   "source": [
    "# Part 2 - Now let's make the ANN!"
   ]
  },
  {
   "cell_type": "code",
   "execution_count": 46,
   "id": "1e6c17b9",
   "metadata": {},
   "outputs": [],
   "source": [
    "# Part 2 - Now let's make the ANN!\n",
    "# Importing all the Keras libraries and packages\n",
    "import keras\n",
    "from keras.models import Sequential\n",
    "from keras.layers import Dense, Dropout\n",
    "\n",
    "# Make the neural network as follows\n",
    "# 1st layer: use Dense layer, with 32 units, uniform kernel initializer, relu activation,\n",
    "# you have to figure out the input_dim\n",
    "# 2nd layer: use Dense layer, with 32 units, uniform kernel initializer, relu activation\n",
    "# 3rd layer: use Dense layer, with 32 units, uniform kernel initializer, relu activation\n",
    "# 4th layer: use Dense layer, with 32 units, uniform kernel initializer, relu activation\n",
    "# 5th layer: you have to figure out the number of output units and the activation function you use,\n",
    "# use uniform kernel initializer.\n",
    "\n",
    "# After that, compile the ANN with adam optimizer, use accuracy as metrics and\n",
    "# figure out the appropriate loss function.\n",
    "\n",
    "# After that, fit the model with 50 batch_size, and 20 epochs"
   ]
  },
  {
   "cell_type": "markdown",
   "id": "af51230f",
   "metadata": {},
   "source": [
    "# question4()"
   ]
  },
  {
   "cell_type": "code",
   "execution_count": 58,
   "id": "11247205",
   "metadata": {},
   "outputs": [],
   "source": [
    "def question4():\n",
    "    # YOUR CODE STARTS HERE\n",
    "    model = Sequential()\n",
    "    model.add(Dense(32,input_shape=(15,),activation=\"relu\",kernel_initializer='uniform'))\n",
    "    model.add(Dense(32,activation=\"relu\",kernel_initializer='uniform'))\n",
    "    model.add(Dense(32,activation=\"relu\",kernel_initializer='uniform'))\n",
    "    model.add(Dense(32,activation=\"relu\",kernel_initializer='uniform'))\n",
    "    model.add(Dense(1,activation=\"sigmoid\",kernel_initializer='uniform'))\n",
    "    \n",
    "    model.compile(optimizer='adam', \n",
    "              loss='binary_crossentropy',\n",
    "              metrics=['accuracy'])\n",
    "    \n",
    "    model.fit(X_train, y_train, batch_size=50, epochs=20)\n",
    "    loss, accuracy = model.evaluate(X_test, y_test)    \n",
    "\n",
    "    # YOUR CODE ENDS HERE\n",
    "    return loss, accuracy"
   ]
  },
  {
   "cell_type": "code",
   "execution_count": 59,
   "id": "b582a9d7",
   "metadata": {},
   "outputs": [
    {
     "name": "stdout",
     "output_type": "stream",
     "text": [
      "Epoch 1/20\n",
      "4/4 [==============================] - 0s 3ms/step - loss: 0.6927 - accuracy: 0.6450\n",
      "Epoch 2/20\n",
      "4/4 [==============================] - 0s 3ms/step - loss: 0.6916 - accuracy: 0.7250\n",
      "Epoch 3/20\n",
      "4/4 [==============================] - 0s 3ms/step - loss: 0.6903 - accuracy: 0.7250\n",
      "Epoch 4/20\n",
      "4/4 [==============================] - 0s 2ms/step - loss: 0.6886 - accuracy: 0.7250\n",
      "Epoch 5/20\n",
      "4/4 [==============================] - 0s 2ms/step - loss: 0.6862 - accuracy: 0.7250\n",
      "Epoch 6/20\n",
      "4/4 [==============================] - 0s 2ms/step - loss: 0.6833 - accuracy: 0.7250\n",
      "Epoch 7/20\n",
      "4/4 [==============================] - 0s 2ms/step - loss: 0.6781 - accuracy: 0.7250\n",
      "Epoch 8/20\n",
      "4/4 [==============================] - 0s 1ms/step - loss: 0.6704 - accuracy: 0.7250\n",
      "Epoch 9/20\n",
      "4/4 [==============================] - 0s 2ms/step - loss: 0.6573 - accuracy: 0.7250\n",
      "Epoch 10/20\n",
      "4/4 [==============================] - 0s 1ms/step - loss: 0.6412 - accuracy: 0.7250\n",
      "Epoch 11/20\n",
      "4/4 [==============================] - 0s 2ms/step - loss: 0.6190 - accuracy: 0.7250\n",
      "Epoch 12/20\n",
      "4/4 [==============================] - 0s 2ms/step - loss: 0.6101 - accuracy: 0.7250\n",
      "Epoch 13/20\n",
      "4/4 [==============================] - 0s 2ms/step - loss: 0.6005 - accuracy: 0.7250\n",
      "Epoch 14/20\n",
      "4/4 [==============================] - 0s 2ms/step - loss: 0.6045 - accuracy: 0.7250\n",
      "Epoch 15/20\n",
      "4/4 [==============================] - 0s 2ms/step - loss: 0.5995 - accuracy: 0.7250\n",
      "Epoch 16/20\n",
      "4/4 [==============================] - 0s 2ms/step - loss: 0.5950 - accuracy: 0.7250\n",
      "Epoch 17/20\n",
      "4/4 [==============================] - 0s 1ms/step - loss: 0.5929 - accuracy: 0.7250\n",
      "Epoch 18/20\n",
      "4/4 [==============================] - 0s 2ms/step - loss: 0.5920 - accuracy: 0.7250\n",
      "Epoch 19/20\n",
      "4/4 [==============================] - 0s 2ms/step - loss: 0.5901 - accuracy: 0.7250\n",
      "Epoch 20/20\n",
      "4/4 [==============================] - 0s 2ms/step - loss: 0.5869 - accuracy: 0.7250\n",
      "3/3 [==============================] - 0s 0s/step - loss: 0.6565 - accuracy: 0.6512\n",
      "0.6565108299255371\n",
      "0.6511628031730652\n"
     ]
    }
   ],
   "source": [
    "loss, accuracy = question4()\n",
    "print(loss)\n",
    "print(accuracy)"
   ]
  },
  {
   "cell_type": "markdown",
   "id": "661d57b8",
   "metadata": {},
   "source": [
    "# question5()"
   ]
  },
  {
   "cell_type": "code",
   "execution_count": null,
   "id": "362bcb19",
   "metadata": {},
   "outputs": [],
   "source": [
    "# Now, make another neural network with some Dropout layer to avoid overfitting\n",
    "# 1st layer: use Dense layer, with 32 units, uniform kernel initializer, relu activation,\n",
    "# you have to figure out the input_dim\n",
    "\n",
    "# 2nd layer: use Dense layer, with 32 units, uniform kernel initializer, relu activation\n",
    "\n",
    "# 3rd layer: use Dense layer, with 32 units, uniform kernel initializer, relu activation\n",
    "\n",
    "# 4th layer: use Dense layer, with 32 units, uniform kernel initializer, relu activation\n",
    "# 5th layer: Dropout with 0.3 rate\n",
    "# 6th layer: you have to figure out the number of output units and the activation function you use,\n",
    "# use uniform kernel initializer.\n",
    "\n",
    "# After that, compile the ANN with adam optimizer, use accuracy as metrics and\n",
    "# figure out the appropriate loss function.\n",
    "\n",
    "# After that, fit the model with 50 batch_size, and 20 epochs"
   ]
  },
  {
   "cell_type": "code",
   "execution_count": 60,
   "id": "a75a5c40",
   "metadata": {},
   "outputs": [],
   "source": [
    "def question5():\n",
    "    # YOUR CODE STARTS HERE\n",
    "    model = Sequential()\n",
    "    model.add(Dense(32,input_shape=(15,),activation=\"relu\",kernel_initializer='uniform'))\n",
    "    model.add(Dense(32,activation=\"relu\",kernel_initializer='uniform'))\n",
    "    model.add(Dense(32,activation=\"relu\",kernel_initializer='uniform'))\n",
    "    model.add(Dense(32,activation=\"relu\",kernel_initializer='uniform'))\n",
    "    model.add(Dropout(0.3))\n",
    "    model.add(Dense(1,activation=\"sigmoid\",kernel_initializer='uniform'))\n",
    "    \n",
    "    model.compile(optimizer='adam', \n",
    "              loss='binary_crossentropy',\n",
    "              metrics=['accuracy'])\n",
    "    \n",
    "    model.fit(X_train, y_train, batch_size=50, epochs=20)\n",
    "    loss, accuracy = model.evaluate(X_test, y_test)    \n",
    "\n",
    "    # YOUR CODE ENDS HERE\n",
    "    return loss, accuracy"
   ]
  },
  {
   "cell_type": "code",
   "execution_count": 61,
   "id": "0efd7131",
   "metadata": {},
   "outputs": [
    {
     "name": "stdout",
     "output_type": "stream",
     "text": [
      "Epoch 1/20\n",
      "4/4 [==============================] - 0s 2ms/step - loss: 0.6927 - accuracy: 0.7000\n",
      "Epoch 2/20\n",
      "4/4 [==============================] - 0s 3ms/step - loss: 0.6915 - accuracy: 0.7250\n",
      "Epoch 3/20\n",
      "4/4 [==============================] - 0s 2ms/step - loss: 0.6901 - accuracy: 0.7250\n",
      "Epoch 4/20\n",
      "4/4 [==============================] - 0s 4ms/step - loss: 0.6883 - accuracy: 0.7250\n",
      "Epoch 5/20\n",
      "4/4 [==============================] - 0s 3ms/step - loss: 0.6858 - accuracy: 0.7250\n",
      "Epoch 6/20\n",
      "4/4 [==============================] - 0s 2ms/step - loss: 0.6831 - accuracy: 0.7250\n",
      "Epoch 7/20\n",
      "4/4 [==============================] - 0s 2ms/step - loss: 0.6772 - accuracy: 0.7250\n",
      "Epoch 8/20\n",
      "4/4 [==============================] - 0s 3ms/step - loss: 0.6695 - accuracy: 0.7250\n",
      "Epoch 9/20\n",
      "4/4 [==============================] - 0s 2ms/step - loss: 0.6560 - accuracy: 0.7250\n",
      "Epoch 10/20\n",
      "4/4 [==============================] - 0s 2ms/step - loss: 0.6433 - accuracy: 0.7250\n",
      "Epoch 11/20\n",
      "4/4 [==============================] - 0s 2ms/step - loss: 0.6179 - accuracy: 0.7250\n",
      "Epoch 12/20\n",
      "4/4 [==============================] - 0s 2ms/step - loss: 0.6112 - accuracy: 0.7250\n",
      "Epoch 13/20\n",
      "4/4 [==============================] - 0s 2ms/step - loss: 0.5968 - accuracy: 0.7250\n",
      "Epoch 14/20\n",
      "4/4 [==============================] - 0s 2ms/step - loss: 0.6022 - accuracy: 0.7250\n",
      "Epoch 15/20\n",
      "4/4 [==============================] - 0s 2ms/step - loss: 0.5995 - accuracy: 0.7250\n",
      "Epoch 16/20\n",
      "4/4 [==============================] - 0s 2ms/step - loss: 0.6026 - accuracy: 0.7250\n",
      "Epoch 17/20\n",
      "4/4 [==============================] - 0s 2ms/step - loss: 0.5918 - accuracy: 0.7250\n",
      "Epoch 18/20\n",
      "4/4 [==============================] - 0s 2ms/step - loss: 0.5944 - accuracy: 0.7250\n",
      "Epoch 19/20\n",
      "4/4 [==============================] - 0s 2ms/step - loss: 0.5841 - accuracy: 0.7250\n",
      "Epoch 20/20\n",
      "4/4 [==============================] - 0s 3ms/step - loss: 0.5936 - accuracy: 0.7250\n",
      "3/3 [==============================] - 0s 0s/step - loss: 0.6512 - accuracy: 0.6512\n",
      "\n",
      "0.6512218713760376\n",
      "0.6511628031730652\n"
     ]
    }
   ],
   "source": [
    "loss2, accuracy2 = question5()\n",
    "print()\n",
    "print(loss2)\n",
    "print(accuracy2)"
   ]
  }
 ],
 "metadata": {
  "kernelspec": {
   "display_name": "Python 3",
   "language": "python",
   "name": "python3"
  },
  "language_info": {
   "codemirror_mode": {
    "name": "ipython",
    "version": 3
   },
   "file_extension": ".py",
   "mimetype": "text/x-python",
   "name": "python",
   "nbconvert_exporter": "python",
   "pygments_lexer": "ipython3",
   "version": "3.8.8"
  }
 },
 "nbformat": 4,
 "nbformat_minor": 5
}
